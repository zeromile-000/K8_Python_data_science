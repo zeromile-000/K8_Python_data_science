{
 "cells": [
  {
   "cell_type": "markdown",
   "metadata": {},
   "source": [
    "FremontBridge 데이터 분석 실습 과제\n",
    "과제 1: 데이터 선택 및 조건 필터링\n",
    "1. iloc 사용\n",
    "데이터셋의 첫 15개의 행에서 west와 east 열만 선택하여 출력하세요.\n",
    "\n",
    "2. loc 사용\n",
    "west 열과 east 열의 값이 모두 50 이상인 데이터를 선택하고, 해당 데이터의 west와 east 열 각각의 평균을 계산하세요.\n",
    "\n",
    "3. 조건에 따른 데이터 필터링\n",
    "west 열의 값이 400 이상이고 east 열의 값이 0.6 이상인 데이터를 선택하여 출력하세요.\n",
    "\n",
    "\n",
    "과제 2: 누락 데이터 처리\n",
    "1. 누락 데이터 생성\n",
    "DIS라는 새로운 열을 추가하고, 무작위로 15%의 데이터를 NaN 값으로 설정하세요.\n",
    "\n",
    "2. 누락 데이터 처리\n",
    "(a) 누락 데이터를 포함하는 행을 삭제한 새로운 데이터를 생성하고, 이를 확인하세요.\n",
    "(b) 누락 데이터를 DIS 열의 중앙값으로 대체한 새로운 데이터를 생성하고, 이를 확인하세요.\n",
    "\n",
    "\n",
    "과제 3: 기상 데이터와 자전거 사용자 수 관계 분석\n",
    "\n",
    "배경\n",
    "기상 데이터(Temperature, Rainfall, 등)가 주어졌다고 가정하고, 이를 Fremont Bridge 데이터와 결합합니다.\n",
    "\n",
    "실습 문제\n",
    "1) 임의의 기상 데이터를 생성하여 Temperature와 Rainfall 열을 추가하세요.\n",
    "Temperature는 40~80°F 사이의 임의의 정수로 구성됩니다.\n",
    "Rainfall은 0~5mm 사이의 임의의 실수로 구성됩니다.\n",
    "2) Temperature와 Rainfall이 west와 east 통행량에 미치는 영향을 분석하기 위해, 조건에 따른 데이터를 필터링하세요.\n",
    "Temperature가 60°F 이상일 때의 통행량 평균.\n",
    "Rainfall이 2mm 이하일 때의 통행량 평균.\n",
    "3) 위 데이터를 시각화하여 분석 결과를 그래프로 표현하세요.\n",
    "Temperature와 west 통행량의 관계를 나타내는 산점도.\n",
    "Rainfall과 east 통행량의 관계를 나타내는 선 그래프.\n"
   ]
  }
 ],
 "metadata": {
  "language_info": {
   "name": "python"
  }
 },
 "nbformat": 4,
 "nbformat_minor": 2
}
