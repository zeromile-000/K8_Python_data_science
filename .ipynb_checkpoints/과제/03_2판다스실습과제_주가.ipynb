{
 "cells": [
  {
   "cell_type": "code",
   "execution_count": null,
   "metadata": {
    "vscode": {
     "languageId": "plaintext"
    }
   },
   "outputs": [],
   "source": [
    "import pandas as pd\n",
    "import yfinance as yf\n",
    "import matplotlib.pyplot as plt\n",
    "\n",
    "# 1. TikTok 주가 데이터 다운로드\n",
    "ticker = \"TTOO\"  # TikTok (티커 코드 예시)\n",
    "tiktok_data = yf.download(ticker, start=\"2020-01-01\", end=\"2023-12-31\")\n",
    "\n",
    "# 데이터 확인\n",
    "print(\"TikTok 주가 데이터 샘플:\\n\", tiktok_data.head())\n",
    "\n",
    "# 2. 연습 문제 예제 생성\n",
    "# 문제 1: 특정 날짜의 주가 정보 가져오기\n",
    "\n",
    "print(\"\\n2022-01-03의 데이터:\\n\", specific_date_data)\n",
    "\n",
    "# 문제 2: 특정 기간(1년)의 데이터 가져오기\n",
    "\n",
    "print(\"\\n2021년 TikTok 데이터:\\n\", one_year_data.head())\n",
    "\n",
    "# 문제 3: 종가(Close)가 5달러 이상인 날의 데이터 필터링\n",
    "\n",
    "print(\"\\n종가가 5달러 이상인 데이터:\\n\", high_price_data.head())\n",
    "\n",
    "# 문제 4: 거래량(Volume)이 1,000,000 이상인 날의 데이터 필터링\n",
    "\n",
    "print(\"\\n거래량이 1,000,000 이상인 데이터:\\n\", high_volume_data.head())\n",
    "\n",
    "# 문제 5: 특정 기간의 종가 데이터를 시각화\n",
    "plt.figure(figsize=(12, 6))\n",
    "plt.plot(one_year_data.index, one_year_data[\"Close\"], label=\"TikTok Close Price (2021)\", color=\"purple\")\n",
    "plt.title(\"TikTok Close Prices in 2021\")\n",
    "plt.xlabel(\"Date\")\n",
    "plt.ylabel(\"Close Price\")\n",
    "plt.legend()\n",
    "plt.grid()\n",
    "plt.show()\n"
   ]
  },
  {
   "cell_type": "markdown",
   "metadata": {},
   "source": [
    "연습 문제 제안\n",
    "문제 1: 특정 날짜의 데이터 가져오기\n",
    "python\n",
    "코드 복사\n",
    "# 질문: 2023년 5월 15일의 데이터를 가져오세요.\n",
    "\n",
    "문제 2: 특정 기간의 데이터 가져오기\n",
    "python\n",
    "코드 복사\n",
    "# 질문: 2022년 전체 데이터만 추출하세요.\n",
    "\n",
    "문제 3: 조건에 맞는 데이터 필터링\n",
    "python\n",
    "코드 복사\n",
    "# 질문: 종가가 2달러 이하인 날의 데이터를 추출하세요.\n",
    "\n",
    "문제 4: 거래량이 많은 날 분석\n",
    "python\n",
    "코드 복사\n",
    "# 질문: 거래량이 2백만 이상인 데이터를 추출하고, 해당 데이터의 평균 종가를 계산하세요.\n",
    "\n",
    "\n",
    "문제 5: 시각화\n",
    "python\n",
    "코드 복사\n",
    "# 질문: 2021년 데이터를 사용하여 종가(Close)와 거래량(Volume)의 트렌드를 시각화하세요.\n",
    "plt.figure(figsize=(12, 6))\n",
    "plt.plot(one_year_data.index, one_year_data[\"Close\"], label=\"Close Price\", color=\"blue\")\n",
    "plt.bar(one_year_data.index, one_year_data[\"Volume\"], label=\"Volume\", color=\"orange\", alpha=0.5)\n",
    "plt.title(\"TikTok Stock Close Price and Volume in 2021\")\n",
    "plt.xlabel(\"Date\")\n",
    "plt.ylabel(\"Value\")\n",
    "plt.legend()\n",
    "plt.show()\n",
    "필요 라이브러리 설치\n",
    "아래 명령어를 사용해 필요한 라이브러리를 설치하세요:\n",
    "\n",
    "bash\n",
    "코드 복사\n",
    "pip install yfinance pandas matplotlib\n"
   ]
  }
 ],
 "metadata": {
  "language_info": {
   "name": "python"
  }
 },
 "nbformat": 4,
 "nbformat_minor": 2
}
