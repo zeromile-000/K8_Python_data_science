{
 "cells": [
  {
   "cell_type": "markdown",
   "metadata": {},
   "source": [
    "\n",
    "실습 과제1: NumPy를 활용한 행렬 변형 실습\n",
    "문제 1: 난수 행렬 생성\n",
    "N = 6과 M = 5로 설정하고, 0과 1 사이의 난수를 사용하여 (N, M) 형태의 행렬 A를 생성하세요.\n",
    "힌트: np.random.rand() 함수를 사용하세요.\n",
    "\n",
    "문제 2: 새로운 축 추가\n",
    "행렬 A에 np.newaxis를 사용하여 새로운 축을 추가하고, 결과를 B에 저장하세요. B의 형태는 (N, 1, M)이 되어야 합니다.\n",
    "\n",
    "문제 3: 슬라이싱을 이용한 특정 요소 변경\n",
    "행렬 B에서 세 번째 행의 모든 열을 슬라이싱하여 값을 0.3으로 변경하세요.\n",
    "\n",
    "문제 4: 축 위치를 다르게 설정하여 새로운 행렬 생성\n",
    "np.newaxis를 사용하여 A의 형태를 (1, N, M)로 변형한 결과를 C에 저장하고, (N, M, 1)로 변형한 결과를 D에 저장하세요. 각 행렬의 형태를 출력하여 확인하세요.\n",
    "\n",
    "문제 5: 슬라이싱을 통해 부분 행렬 변경\n",
    "행렬 D에서 마지막 세 행의 모든 요소를 0.8로 변경하세요.\n",
    "\n"
   ]
  },
  {
   "cell_type": "code",
   "execution_count": 8,
   "metadata": {},
   "outputs": [
    {
     "name": "stdout",
     "output_type": "stream",
     "text": [
      "[[0.78229574 0.07118681 0.89264121 0.04944861 0.32172625]\n",
      " [0.17419654 0.80086923 0.44120938 0.43515418 0.41603703]\n",
      " [0.89949353 0.37820504 0.0692163  0.0912116  0.44273937]\n",
      " [0.24005834 0.64664958 0.7172692  0.95549404 0.64144133]\n",
      " [0.17722488 0.0248433  0.56234122 0.88616231 0.48696554]\n",
      " [0.51653705 0.16643465 0.97524707 0.74086653 0.06096788]]\n"
     ]
    }
   ],
   "source": [
    "# 문제 1번 : 난수 행렬 생성\n",
    "import numpy as np\n",
    "N = 6 # 행\n",
    "M = 5 # 열\n",
    "A = np.random.rand(N, M) # 난수 배열 생성\n",
    "print(A)\n"
   ]
  },
  {
   "cell_type": "code",
   "execution_count": 16,
   "metadata": {},
   "outputs": [
    {
     "name": "stdout",
     "output_type": "stream",
     "text": [
      "B의 형태: (6, 1, 5)\n"
     ]
    }
   ],
   "source": [
    "# 문제 2번 : 새로운 축 추가 3차원(5,1,6) [높이(행), 넓이(열), 채널(차원)] , 1행 5열의 크기를 가지는 배열이 6개 있다.\n",
    "B = A[ : , np.newaxis, :]\n",
    "print(\"B의 형태:\", B.shape)"
   ]
  },
  {
   "cell_type": "code",
   "execution_count": 12,
   "metadata": {},
   "outputs": [
    {
     "name": "stdout",
     "output_type": "stream",
     "text": [
      "B의 3번쨰 행 [0.3 0.3 0.3 0.3 0.3]\n"
     ]
    }
   ],
   "source": [
    "# 문제 3: 슬라이싱을 이용한 특정 요소 변경\n",
    "B[2, 0, :] = 0.3\n",
    "# print(B)\n",
    "print(\"B의 3번쨰 행\",B[2, 0, :])"
   ]
  },
  {
   "cell_type": "code",
   "execution_count": 30,
   "metadata": {},
   "outputs": [
    {
     "name": "stdout",
     "output_type": "stream",
     "text": [
      "C의 형태 (1, 6, 5)\n",
      "D의 형태 (6, 5, 1)\n"
     ]
    }
   ],
   "source": [
    "# 문제 4: 축 위치를 다르게 설정하여 새로운 행렬 생성\n",
    "C = A[np.newaxis, :, :]\n",
    "D = A[:,:,np.newaxis]\n",
    "print(\"C의 형태\", C.shape)\n",
    "print(\"D의 형태\", D.shape)\n"
   ]
  },
  {
   "cell_type": "code",
   "execution_count": 37,
   "metadata": {},
   "outputs": [
    {
     "data": {
      "text/plain": [
       "array([[[0.78229574],\n",
       "        [0.07118681],\n",
       "        [0.89264121],\n",
       "        [0.04944861],\n",
       "        [0.32172625]],\n",
       "\n",
       "       [[0.17419654],\n",
       "        [0.80086923],\n",
       "        [0.44120938],\n",
       "        [0.43515418],\n",
       "        [0.41603703]],\n",
       "\n",
       "       [[0.3       ],\n",
       "        [0.3       ],\n",
       "        [0.3       ],\n",
       "        [0.3       ],\n",
       "        [0.3       ]],\n",
       "\n",
       "       [[0.24005834],\n",
       "        [0.64664958],\n",
       "        [0.7172692 ],\n",
       "        [0.95549404],\n",
       "        [0.64144133]],\n",
       "\n",
       "       [[0.17722488],\n",
       "        [0.0248433 ],\n",
       "        [0.56234122],\n",
       "        [0.88616231],\n",
       "        [0.48696554]],\n",
       "\n",
       "       [[0.51653705],\n",
       "        [0.16643465],\n",
       "        [0.97524707],\n",
       "        [0.74086653],\n",
       "        [0.06096788]]])"
      ]
     },
     "execution_count": 37,
     "metadata": {},
     "output_type": "execute_result"
    }
   ],
   "source": [
    "D"
   ]
  },
  {
   "cell_type": "code",
   "execution_count": 38,
   "metadata": {},
   "outputs": [
    {
     "ename": "IndexError",
     "evalue": "too many indices for array: array is 3-dimensional, but 4 were indexed",
     "output_type": "error",
     "traceback": [
      "\u001b[1;31m---------------------------------------------------------------------------\u001b[0m",
      "\u001b[1;31mIndexError\u001b[0m                                Traceback (most recent call last)",
      "Cell \u001b[1;32mIn[38], line 1\u001b[0m\n\u001b[1;32m----> 1\u001b[0m \u001b[38;5;28mprint\u001b[39m(\u001b[43mD\u001b[49m\u001b[43m[\u001b[49m\u001b[43m:\u001b[49m\u001b[43m,\u001b[49m\u001b[43m \u001b[49m\u001b[43m:\u001b[49m\u001b[43m,\u001b[49m\u001b[38;5;241;43m3\u001b[39;49m\u001b[43m:\u001b[49m\u001b[38;5;241;43m5\u001b[39;49m\u001b[43m,\u001b[49m\u001b[43m \u001b[49m\u001b[38;5;241;43m0\u001b[39;49m\u001b[43m]\u001b[49m)\n",
      "\u001b[1;31mIndexError\u001b[0m: too many indices for array: array is 3-dimensional, but 4 were indexed"
     ]
    }
   ],
   "source": [
    "print(D[:, :,3:5, 0])"
   ]
  },
  {
   "cell_type": "code",
   "execution_count": null,
   "metadata": {},
   "outputs": [
    {
     "data": {
      "text/plain": [
       "array([[[0.78229574],\n",
       "        [0.07118681],\n",
       "        [0.89264121],\n",
       "        [0.04944861],\n",
       "        [0.32172625]],\n",
       "\n",
       "       [[0.17419654],\n",
       "        [0.80086923],\n",
       "        [0.44120938],\n",
       "        [0.43515418],\n",
       "        [0.41603703]],\n",
       "\n",
       "       [[0.3       ],\n",
       "        [0.3       ],\n",
       "        [0.3       ],\n",
       "        [0.3       ],\n",
       "        [0.3       ]],\n",
       "\n",
       "       [[0.24005834],\n",
       "        [0.64664958],\n",
       "        [0.7172692 ],\n",
       "        [0.95549404],\n",
       "        [0.64144133]],\n",
       "\n",
       "       [[0.17722488],\n",
       "        [0.0248433 ],\n",
       "        [0.56234122],\n",
       "        [0.88616231],\n",
       "        [0.48696554]],\n",
       "\n",
       "       [[0.51653705],\n",
       "        [0.16643465],\n",
       "        [0.97524707],\n",
       "        [0.74086653],\n",
       "        [0.06096788]]])"
      ]
     },
     "execution_count": 32,
     "metadata": {},
     "output_type": "execute_result"
    }
   ],
   "source": [
    "# 문제 5: 슬라이싱을 통해 부분 행렬 변경\n",
    "print(D[-1:-3, 0, :])\n",
    "D[-1:-3, 0, :] = 0.8\n",
    "D\n",
    "\n"
   ]
  }
 ],
 "metadata": {
  "kernelspec": {
   "display_name": "Python 3",
   "language": "python",
   "name": "python3"
  },
  "language_info": {
   "codemirror_mode": {
    "name": "ipython",
    "version": 3
   },
   "file_extension": ".py",
   "mimetype": "text/x-python",
   "name": "python",
   "nbconvert_exporter": "python",
   "pygments_lexer": "ipython3",
   "version": "3.9.13"
  }
 },
 "nbformat": 4,
 "nbformat_minor": 2
}
